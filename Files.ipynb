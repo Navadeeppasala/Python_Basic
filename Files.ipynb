{
 "cells": [
  {
   "cell_type": "markdown",
   "metadata": {},
   "source": [
    "# <center>Welcome to Python Programming "
   ]
  },
  {
   "cell_type": "markdown",
   "metadata": {},
   "source": [
    "**Contents**\n",
    "1. Introduction to python\n",
    "2. Applications of python\n",
    "3. IDEs\n",
    "4. Introduction to python Interpreter\n",
    "5. Indentation and comments\n",
    "6. Keywords\n",
    "7. Variables - Identifiers\n",
    "8. Built-In types\n",
    "9. Assigning Values to variables\n",
    "10. Input and Output Statements\n",
    "11. Operators\n",
    "12. Control Structutres\n",
    "13. Math & Random Modules\n",
    "14. List\n",
    "15. Tuple\n",
    "16. Strings\n",
    "17. Set\n",
    "18. DIctionary\n",
    "19. Functions\n",
    "20. Files\n",
    "21. Libraries in Python"
   ]
  },
  {
   "cell_type": "markdown",
   "metadata": {},
   "source": [
    "# 20. Files\n",
    "<img src=\"Screenshot (628).png\">"
   ]
  },
  {
   "cell_type": "markdown",
   "metadata": {},
   "source": [
    "- Generally we won't store any output \n",
    "- But in this files concept we can store ouput\n",
    "    - So that we can read it any time\n",
    "- For this what we need to do the process is\n",
    "    - first we should open the file\n",
    "    - next we need to do read/write\n",
    "    - next is the main thing we need to close the file compulsory\n",
    "\n",
    "**Lets see how to open**\n",
    "- In open it will take two parameters file name and mode\n",
    "    - open(\"filename\",\"mode\")\n",
    "    - Filename either be a textfiles or binary file\n",
    "        - Binary files means data will be 0's and 1's that we cant understand\n",
    "        - Other than binary files left everything will be a text files\n",
    "        - We should give the path name\n",
    "    - Mode means in which mode are we opening either in r,w,a\n",
    "        - r - read mode (If read mode we can do only reading)\n",
    "        - w - write mode \n",
    "        - a - append mode (In write and append mode we can write the data)\n",
    "\n",
    "**To place the data or to bring the data from the file what we do is**\n",
    "- When ever we open the file, we will point out the filename to file object\n",
    "- so what ever read and write will be with respect to file object\n",
    "- So the syntax is fileobject=open(\"filename.txt\",\"mode\") now it will check the filename present or not, if present it will open in the mode what we givin\n",
    "\n",
    "<img src=\"Screenshot (626).png\">"
   ]
  },
  {
   "cell_type": "code",
   "execution_count": null,
   "metadata": {},
   "outputs": [],
   "source": []
  },
  {
   "cell_type": "markdown",
   "metadata": {},
   "source": [
    "**How to create a file**\n",
    "\n",
    "<img src=\"Screenshot (627).png\">\n",
    "\n",
    "- When we use write or append mode the file will be create\n",
    "- fo=open(\"hello.txt\",\"w\")\n",
    "    - these below things will happen when it open in write mode\n",
    "    - Now it will check hello.txt is present or not. if the file present, \n",
    "        - when the above statement execute, what ever the data present in the hello.txt file will be erase because it will over-write and file object will point out to the starting position\n",
    "        - next when we do fo.write() operations then automatically it will start and data will come in to hello.txt \n",
    "     - If the file not present then new file will be created\n",
    "- fo=open(\"hello.txt\".\"a\")\n",
    "     - when we use append mode if the file does not exist \n",
    "         - it will create a new file and file object will point out to the starting position\n",
    "     - If the file exist\n",
    "          - the file pointer will point out to end of the file which means the present data wont be earse, it will continue after the data present in the file"
   ]
  },
  {
   "cell_type": "code",
   "execution_count": 45,
   "metadata": {},
   "outputs": [],
   "source": [
    "fo = open(\"nava.txt\",\"w\")"
   ]
  },
  {
   "cell_type": "code",
   "execution_count": 46,
   "metadata": {},
   "outputs": [
    {
     "name": "stdout",
     "output_type": "stream",
     "text": [
      "\n"
     ]
    }
   ],
   "source": [
    "fo =open(\"nava.txt\",\"r\")\n",
    "print(fo.read())\n",
    "fo.close()"
   ]
  },
  {
   "cell_type": "code",
   "execution_count": 47,
   "metadata": {},
   "outputs": [],
   "source": [
    "fo = open(\"nava.txt\",\"w\")\n",
    "fo.write(\"Hello\")\n",
    "fo.write(\"welcome\")\n",
    "fo.close()"
   ]
  },
  {
   "cell_type": "code",
   "execution_count": 48,
   "metadata": {},
   "outputs": [
    {
     "name": "stdout",
     "output_type": "stream",
     "text": [
      "Hellowelcome\n"
     ]
    }
   ],
   "source": [
    "fo=open(\"nava.txt\",\"r\")\n",
    "print(fo.read())\n",
    "fo.close()"
   ]
  },
  {
   "cell_type": "code",
   "execution_count": 49,
   "metadata": {},
   "outputs": [],
   "source": [
    "fo = open(\"nava.txt\",\"w\")\n",
    "fo.write(\"Hello how are you\")\n",
    "fo.write(\"welcome\")\n",
    "l=[\"\\nThis\",\"\\nis\",\"\\nfile\",\"\\nconcept\"]\n",
    "fo.writelines(l)\n",
    "fo.close()"
   ]
  },
  {
   "cell_type": "code",
   "execution_count": 50,
   "metadata": {},
   "outputs": [
    {
     "name": "stdout",
     "output_type": "stream",
     "text": [
      "Hello how are youwelcome\n",
      "This\n",
      "is\n",
      "file\n",
      "concept\n"
     ]
    }
   ],
   "source": [
    "fo=open(\"nava.txt\",\"r\")\n",
    "print(fo.read())\n",
    "fo.close()"
   ]
  },
  {
   "cell_type": "code",
   "execution_count": 51,
   "metadata": {},
   "outputs": [],
   "source": [
    "fo=open(\"nava.txt\",\"r\")\n",
    "fo.read(6) #Reading 6 characters\n",
    "fo.close()"
   ]
  },
  {
   "cell_type": "code",
   "execution_count": 52,
   "metadata": {},
   "outputs": [
    {
     "name": "stdout",
     "output_type": "stream",
     "text": [
      "Hello \n",
      "how ar\n"
     ]
    }
   ],
   "source": [
    "fo=open(\"nava.txt\",\"r\")\n",
    "print(fo.read(6)) #Reading 6 characters\n",
    "print(fo.read(6)) # now where will start? it has alredy 6 char so it will point out from 7th char and strt printing from there\n",
    "fo.close()"
   ]
  },
  {
   "cell_type": "code",
   "execution_count": 56,
   "metadata": {},
   "outputs": [
    {
     "name": "stdout",
     "output_type": "stream",
     "text": [
      "Hello how are youwelcome\n",
      "\n"
     ]
    }
   ],
   "source": [
    "fo=open(\"nava.txt\",\"r\")\n",
    "print(fo.readline()) #it will read line by line\n",
    "fo.close()"
   ]
  },
  {
   "cell_type": "code",
   "execution_count": 57,
   "metadata": {},
   "outputs": [
    {
     "name": "stdout",
     "output_type": "stream",
     "text": [
      "Hello how are youwelcome\n",
      "\n",
      "This\n",
      "\n"
     ]
    }
   ],
   "source": [
    "fo=open(\"nava.txt\",\"r\")\n",
    "print(fo.readline()) #it will read line by line\n",
    "print(fo.readline()) # If we mention again it will read from second line because file obj will point out in second line\n",
    "fo.close()"
   ]
  },
  {
   "cell_type": "code",
   "execution_count": 58,
   "metadata": {},
   "outputs": [
    {
     "name": "stdout",
     "output_type": "stream",
     "text": [
      "['Hello how are youwelcome\\n', 'This\\n', 'is\\n', 'file\\n', 'concept']\n"
     ]
    }
   ],
   "source": [
    "# If i want all lines\n",
    "fo=open(\"nava.txt\",\"r\")\n",
    "print(fo.readlines()) # now it will print in list of string # each line will be one string\n",
    "fo.close()"
   ]
  },
  {
   "cell_type": "code",
   "execution_count": null,
   "metadata": {},
   "outputs": [],
   "source": []
  },
  {
   "cell_type": "code",
   "execution_count": null,
   "metadata": {},
   "outputs": [],
   "source": []
  },
  {
   "cell_type": "markdown",
   "metadata": {},
   "source": [
    "## File handling functions"
   ]
  },
  {
   "cell_type": "code",
   "execution_count": 59,
   "metadata": {},
   "outputs": [
    {
     "name": "stdout",
     "output_type": "stream",
     "text": [
      "0\n"
     ]
    }
   ],
   "source": [
    "fo1 = open(\"nava.txt\",\"w\")\n",
    "print(fo1.tell()) # file pointer is in which position\n",
    "fo1.close()"
   ]
  },
  {
   "cell_type": "code",
   "execution_count": 60,
   "metadata": {},
   "outputs": [
    {
     "name": "stdout",
     "output_type": "stream",
     "text": [
      "0\n",
      "5\n"
     ]
    }
   ],
   "source": [
    "fo1 = open(\"nava.txt\",\"w\")\n",
    "print(fo1.tell())\n",
    "fo1.write(\"hello\")\n",
    "print(fo1.tell())\n",
    "fo1.close()"
   ]
  },
  {
   "cell_type": "code",
   "execution_count": 61,
   "metadata": {},
   "outputs": [
    {
     "name": "stdout",
     "output_type": "stream",
     "text": [
      "0\n",
      "5\n",
      "12\n"
     ]
    }
   ],
   "source": [
    "fo1 = open(\"nava.txt\",\"w\")\n",
    "print(fo1.tell())\n",
    "fo1.write(\"hello\")\n",
    "print(fo1.tell())\n",
    "fo1.write(\"Welcome\")\n",
    "print(fo1.tell())\n",
    "fo1.close()"
   ]
  },
  {
   "cell_type": "code",
   "execution_count": 62,
   "metadata": {},
   "outputs": [
    {
     "name": "stdout",
     "output_type": "stream",
     "text": [
      "12\n"
     ]
    }
   ],
   "source": [
    "fo1 = open(\"nava.txt\",\"a\") #lets see in append mode\n",
    "print(fo1.tell())\n",
    "fo1.close()"
   ]
  },
  {
   "cell_type": "code",
   "execution_count": 63,
   "metadata": {},
   "outputs": [
    {
     "name": "stdout",
     "output_type": "stream",
     "text": [
      "12\n",
      "21\n"
     ]
    }
   ],
   "source": [
    "fo1 = open(\"nava.txt\",\"a\") #lets see in append mode\n",
    "print(fo1.tell())\n",
    "fo1.write(\"to python\")\n",
    "print(fo1.tell())\n",
    "fo1.close()"
   ]
  },
  {
   "cell_type": "code",
   "execution_count": 64,
   "metadata": {},
   "outputs": [
    {
     "name": "stdout",
     "output_type": "stream",
     "text": [
      "21\n",
      "10\n",
      "10\n"
     ]
    }
   ],
   "source": [
    "fo1 = open(\"nava.txt\",\"a\") \n",
    "print(fo1.tell())   #file object position\n",
    "print(fo1.seek(10)) #we can change the file object position\n",
    "print(fo1.tell())\n",
    "fo1.close()"
   ]
  },
  {
   "cell_type": "markdown",
   "metadata": {},
   "source": [
    "## By using with keyword we can create a file\n",
    "- What is the use of the with keyword\n",
    "    - before we have to close the file compalsory\n",
    "    - but here we need not to close the file by mentioning close()\n",
    "    - file will be close automaticaly\n",
    "- Remaning stuff is all same readlines,readline,ftell,fseek...."
   ]
  },
  {
   "cell_type": "code",
   "execution_count": 65,
   "metadata": {},
   "outputs": [],
   "source": [
    "with open(\"hi.txt\",\"w\") as fo:\n",
    "    fo.write(\"Demonstration of with keyword\")"
   ]
  },
  {
   "cell_type": "code",
   "execution_count": 66,
   "metadata": {},
   "outputs": [
    {
     "name": "stdout",
     "output_type": "stream",
     "text": [
      "Demonstration of with keyword\n"
     ]
    }
   ],
   "source": [
    "with open(\"hi.txt\",\"r\") as fo:\n",
    "    print(fo.read())"
   ]
  },
  {
   "cell_type": "code",
   "execution_count": null,
   "metadata": {},
   "outputs": [],
   "source": []
  }
 ],
 "metadata": {
  "kernelspec": {
   "display_name": "Python 3",
   "language": "python",
   "name": "python3"
  },
  "language_info": {
   "codemirror_mode": {
    "name": "ipython",
    "version": 3
   },
   "file_extension": ".py",
   "mimetype": "text/x-python",
   "name": "python",
   "nbconvert_exporter": "python",
   "pygments_lexer": "ipython3",
   "version": "3.7.4"
  }
 },
 "nbformat": 4,
 "nbformat_minor": 2
}
