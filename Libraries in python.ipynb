{
 "cells": [
  {
   "cell_type": "markdown",
   "metadata": {},
   "source": [
    "# <center>Welcome to Python Programming "
   ]
  },
  {
   "cell_type": "markdown",
   "metadata": {},
   "source": [
    "**Contents**\n",
    "1. Introduction to python\n",
    "2. Applications of python\n",
    "3. IDEs\n",
    "4. Introduction to python Interpreter\n",
    "5. Indentation and comments\n",
    "6. Keywords\n",
    "7. Variables - Identifiers\n",
    "8. Built-In types\n",
    "9. Assigning Values to variables\n",
    "10. Input and Output Statements\n",
    "11. Operators\n",
    "12. Control Structutres\n",
    "13. Math & Random Modules\n",
    "14. List\n",
    "15. Tuple\n",
    "16. Strings\n",
    "17. Set\n",
    "18. DIctionary\n",
    "19. Functions\n",
    "20. Files\n",
    "21. Libraries in Python"
   ]
  },
  {
   "cell_type": "markdown",
   "metadata": {},
   "source": [
    "# 21. Libraries in Python\n",
    "- There are many libraries in python\n",
    "- In every library there no.of functions\n",
    "- We have to learn which library is sutable for our applications, Then we will use those function directly to our application\n",
    "- So lets see a introduction for what type of application what library will use "
   ]
  },
  {
   "cell_type": "markdown",
   "metadata": {},
   "source": [
    "<img src=\"Screenshot (629).png\">\n",
    "<img src=\"Screenshot (630).png\">\n",
    "<img src=\"Screenshot (631).png\">"
   ]
  },
  {
   "cell_type": "code",
   "execution_count": null,
   "metadata": {},
   "outputs": [],
   "source": []
  }
 ],
 "metadata": {
  "kernelspec": {
   "display_name": "Python 3",
   "language": "python",
   "name": "python3"
  },
  "language_info": {
   "codemirror_mode": {
    "name": "ipython",
    "version": 3
   },
   "file_extension": ".py",
   "mimetype": "text/x-python",
   "name": "python",
   "nbconvert_exporter": "python",
   "pygments_lexer": "ipython3",
   "version": "3.7.4"
  }
 },
 "nbformat": 4,
 "nbformat_minor": 2
}
